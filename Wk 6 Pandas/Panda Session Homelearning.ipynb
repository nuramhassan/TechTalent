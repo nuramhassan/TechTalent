{
 "cells": [
  {
   "cell_type": "markdown",
   "metadata": {},
   "source": [
    "## List Indexing"
   ]
  },
  {
   "cell_type": "code",
   "execution_count": 6,
   "metadata": {},
   "outputs": [
    {
     "name": "stdout",
     "output_type": "stream",
     "text": [
      "[1, 2, 3, 4, 5, 6, 7, 8]\n",
      "[1, 'Hello', 2.4, 'Now']\n"
     ]
    }
   ],
   "source": [
    "my_1d_list = [1,2,3,4,5,6,7,8] # stores numbers 1-8 in a list through the variable name my_1d_list \n",
    "\n",
    "empty_list = [1, \"Hello\", 2.4, \"Now\"]\n",
    "\n",
    "print(my_1d_list)\n",
    "\n",
    "print(empty_list)\n",
    "\n"
   ]
  },
  {
   "cell_type": "code",
   "execution_count": 7,
   "metadata": {},
   "outputs": [
    {
     "name": "stdout",
     "output_type": "stream",
     "text": [
      "['Suzannah', 'Andy', 'Georgina', 'Satinder', 'Ruth', 'Irina', 'Natasha', 'Alison']\n"
     ]
    }
   ],
   "source": [
    "my_1d_list = [\"Suzannah\", \"Andy\", \"Georgina\", \"Satinder\", \"Ruth\", \"Irina\", \"Natasha\", \"Alison\", ]\n",
    "\n",
    "print (my_1d_list) "
   ]
  },
  {
   "cell_type": "markdown",
   "metadata": {},
   "source": [
    "In Python index always starts a 0"
   ]
  },
  {
   "cell_type": "code",
   "execution_count": 8,
   "metadata": {},
   "outputs": [
    {
     "data": {
      "text/plain": [
       "'Satinder'"
      ]
     },
     "execution_count": 8,
     "metadata": {},
     "output_type": "execute_result"
    }
   ],
   "source": [
    "my_1d_list[3]"
   ]
  },
  {
   "cell_type": "code",
   "execution_count": 9,
   "metadata": {
    "tags": []
   },
   "outputs": [
    {
     "name": "stdout",
     "output_type": "stream",
     "text": [
      "The data at index location 0 is: Suzannah\n",
      "The data at index location 1 is: Andy\n",
      "The data at index location 2 is: Georgina\n",
      "The data at index location 3 is: Satinder\n",
      "The data at index location 4 is: Ruth\n",
      "The data at index location 5 is: Irina\n",
      "The data at index location 6 is: Natasha\n",
      "The data at index location 7 is: Alison\n"
     ]
    }
   ],
   "source": [
    "for i in range(len(my_1d_list)):\n",
    "    print(\"The data at index location\", i, \"is:\", my_1d_list[i])"
   ]
  },
  {
   "cell_type": "code",
   "execution_count": 10,
   "metadata": {},
   "outputs": [
    {
     "data": {
      "text/plain": [
       "'Georgina'"
      ]
     },
     "execution_count": 10,
     "metadata": {},
     "output_type": "execute_result"
    }
   ],
   "source": [
    "my_1d_list[2]"
   ]
  },
  {
   "cell_type": "code",
   "execution_count": 11,
   "metadata": {},
   "outputs": [
    {
     "name": "stdout",
     "output_type": "stream",
     "text": [
      "8\n"
     ]
    }
   ],
   "source": [
    "print(len(my_1d_list))"
   ]
  },
  {
   "cell_type": "code",
   "execution_count": 12,
   "metadata": {},
   "outputs": [
    {
     "data": {
      "text/plain": [
       "['Georgina', 'Satinder', 'Ruth', 'Irina', 'Natasha', 'Alison']"
      ]
     },
     "execution_count": 12,
     "metadata": {},
     "output_type": "execute_result"
    }
   ],
   "source": [
    "my_1d_list[2:8]"
   ]
  },
  {
   "cell_type": "markdown",
   "metadata": {},
   "source": [
    "## 2 Dimensional Lists <br>\n",
    "2D Lists: Lists within a list <br>\n",
    "to referece you use two [], first one is the row and the second is the column."
   ]
  },
  {
   "cell_type": "code",
   "execution_count": 13,
   "metadata": {},
   "outputs": [
    {
     "data": {
      "text/plain": [
       "[[1, 2, 3, 4], [5, 6, 7, 8], [9, 10, 11, 12]]"
      ]
     },
     "execution_count": 13,
     "metadata": {},
     "output_type": "execute_result"
    }
   ],
   "source": [
    "my_2d_list = [[1,2,3,4],\n",
    "              [5,6,7,8],\n",
    "              [9,10,11,12]\n",
    "            ]\n",
    "              \n",
    "my_2d_list"
   ]
  },
  {
   "cell_type": "code",
   "execution_count": 14,
   "metadata": {},
   "outputs": [
    {
     "name": "stdout",
     "output_type": "stream",
     "text": [
      "My list at value 0 is: [1, 2, 3, 4]\n",
      "My list at value 1 is: [5, 6, 7, 8]\n",
      "My list at value 2 is: [9, 10, 11, 12]\n"
     ]
    }
   ],
   "source": [
    "for i in range(len(my_2d_list)):\n",
    "    print(\"My list at value\", i, \"is:\", my_2d_list[i])"
   ]
  },
  {
   "cell_type": "code",
   "execution_count": 15,
   "metadata": {},
   "outputs": [
    {
     "data": {
      "text/plain": [
       "4"
      ]
     },
     "execution_count": 15,
     "metadata": {},
     "output_type": "execute_result"
    }
   ],
   "source": [
    "len(my_2d_list[2]) #index / row 3 - the length of it "
   ]
  },
  {
   "cell_type": "code",
   "execution_count": 16,
   "metadata": {},
   "outputs": [
    {
     "data": {
      "text/plain": [
       "12"
      ]
     },
     "execution_count": 16,
     "metadata": {},
     "output_type": "execute_result"
    }
   ],
   "source": [
    "my_2d_list[2][3] # 3rd row 4th column "
   ]
  },
  {
   "cell_type": "code",
   "execution_count": 17,
   "metadata": {},
   "outputs": [
    {
     "name": "stdout",
     "output_type": "stream",
     "text": [
      "My list at row 0 and column 0 is: 1\n",
      "My list at row 0 and column 1 is: 2\n",
      "My list at row 0 and column 2 is: 3\n",
      "My list at row 0 and column 3 is: 4\n",
      "My list at row 1 and column 0 is: 5\n",
      "My list at row 1 and column 1 is: 6\n",
      "My list at row 1 and column 2 is: 7\n",
      "My list at row 1 and column 3 is: 8\n",
      "My list at row 2 and column 0 is: 9\n",
      "My list at row 2 and column 1 is: 10\n",
      "My list at row 2 and column 2 is: 11\n",
      "My list at row 2 and column 3 is: 12\n"
     ]
    }
   ],
   "source": [
    "for row in range(len(my_2d_list)):\n",
    "    for column in range(len(my_2d_list[row])):\n",
    "        print(\"My list at row\", row, \"and column\", column, \"is:\", my_2d_list[row][column])"
   ]
  },
  {
   "cell_type": "code",
   "execution_count": 19,
   "metadata": {},
   "outputs": [
    {
     "data": {
      "text/plain": [
       "8"
      ]
     },
     "execution_count": 19,
     "metadata": {},
     "output_type": "execute_result"
    }
   ],
   "source": [
    "my_2d_list[1][3]  #index/row 2 and colum 4 "
   ]
  },
  {
   "cell_type": "markdown",
   "metadata": {},
   "source": [
    "## String Handling"
   ]
  },
  {
   "cell_type": "code",
   "execution_count": null,
   "metadata": {},
   "outputs": [],
   "source": [
    "text = \"example1\""
   ]
  },
  {
   "cell_type": "code",
   "execution_count": null,
   "metadata": {},
   "outputs": [],
   "source": [
    "text[-1]"
   ]
  },
  {
   "cell_type": "code",
   "execution_count": null,
   "metadata": {
    "tags": []
   },
   "outputs": [],
   "source": [
    "len(text)"
   ]
  },
  {
   "cell_type": "code",
   "execution_count": null,
   "metadata": {
    "tags": []
   },
   "outputs": [],
   "source": [
    "for each_char in range(len(text)):\n",
    "    print(\"My character at location\", each_char, \"is:\", text[each_char])"
   ]
  },
  {
   "cell_type": "code",
   "execution_count": null,
   "metadata": {
    "tags": []
   },
   "outputs": [],
   "source": [
    "text[2:5]"
   ]
  },
  {
   "cell_type": "code",
   "execution_count": null,
   "metadata": {},
   "outputs": [],
   "source": [
    "text[-3]"
   ]
  },
  {
   "cell_type": "markdown",
   "metadata": {},
   "source": [
    "# Task 1 <br>\n",
    "\n",
    "## Create a CSV file of 15 holiday destinations for a website\n",
    "## 1. Add in a column of destinations\n",
    "## 2. Add in a column that shows feedback score out of 10 for that destination\n",
    "## 3. Add in a column for average hotel star rating for those destinations\n",
    "## 4. Add in a column for number of all-inclusive hotels within each destination\n",
    "## 5. Add in the most visited city in each destination\n",
    "\n",
    "# [SEE GIT READ ME FOR REFERENCE PHOTO] <br>"
   ]
  },
  {
   "cell_type": "code",
   "execution_count": null,
   "metadata": {},
   "outputs": [],
   "source": [
    "\n",
    "\n",
    "import pandas as pd\n",
    "import matplotlib.pyplot as plt\n",
    "import seaborn as sns\n",
    "\n",
    "if __name__ == '__main__':\n",
    "\n",
    "\n"
   ]
  },
  {
   "cell_type": "markdown",
   "metadata": {},
   "source": [
    "# # Task 2 <br>\n",
    "1. Importing my holidaysDestinations File. How many rows and columns are there in your file? - There are 14 rows and 5 column in my file.<br> \n",
    "2. Print row 3-8 ( using iloc/loc).\n",
    "3. Find the mean number of all-inclusive hotels across all destinations.\n",
    "4. Find the lowest scoring destination.\n",
    "5. Find the highest scoring destination.\n",
    "6. Find all the destinations where there are more than 50 all-inclusive hotels.\n",
    "7. Filter the data by score above 8.\n",
    "8. Filter the data score below 3 ( I need to know if these destinations should be removed or there is a problem)<br>"
   ]
  },
  {
   "cell_type": "code",
   "execution_count": null,
   "metadata": {},
   "outputs": [],
   "source": [
    "\n",
    "    # Importing my holidaysDestinations File.\n",
    "    holidayDestinations = pd.read_csv(\"D:\\Documents\\Tech Talent Academy Bootcamp\\HolidayDestinations.csv\")\n",
    "    print(\"Holiday Destinations Data Set: \\n \", holidayDestinations)\n",
    "\n",
    "    # 1. How many rows and columns are there in your file? - There are 14 rows and 5 column in my file.\n",
    "    print(\"Number of ros and columns in my dataset: \", holidayDestinations.shape)\n",
    "\n",
    "    # 2. Print row 3-8 ( using iloc/loc).\n",
    "    print(\"Observing rows 3 to 8: \\n\", holidayDestinations[2:8])\n",
    "\n",
    "    # 3. Find the mean number of all-inclusive hotels across all destinations.\n",
    "    print(\"The mean number of all hotels across all destinations is: \", holidayDestinations[\"Near_By_Hotels\"].mean())\n",
    "\n",
    "    # 4. Find the lowest scoring destination.\n",
    "    print(\"The lowest scoring destination has a score of: \", holidayDestinations[\"Review_Score\"].min())\n",
    "    destination = holidayDestinations[\"Review_Score\"].idxmin()\n",
    "    print(\"The associated destination with the lowest score is: \", destination)\n",
    "    print(\"The lowest Scoring Destination is: \", holidayDestinations.iloc[destination, 0])\n",
    "\n",
    "    # 5. Find the highest scoring destination.\n",
    "    print(\"The highest scoring destination has a score of: \", holidayDestinations[\"Review_Score\"].max())\n",
    "    destination2 = holidayDestinations[\"Review_Score\"].idxmax()\n",
    "    print(\"The associated destination with the highest score is: \", destination2)\n",
    "    print(\"The highest Scoring Destination is: \", holidayDestinations.iloc[destination2, 0])\n",
    "\n",
    "    # 6. Find all the destinations where there are more than 50 all-inclusive hotels.\n",
    "    top50hotelsFilter = holidayDestinations[\"Near_By_Hotels\"] >= 50\n",
    "    destinationWithTop50Hotels = holidayDestinations[top50hotelsFilter]\n",
    "    print(\"The destinations with the more than 50 hotels: \\n\", destinationWithTop50Hotels)\n",
    "\n",
    "    # 7. Filter the data by score above 8.\n",
    "    reviewScoreAbove8Filter = holidayDestinations[\"Review_Score\"] >= 8\n",
    "    allDataAboveAScoreOf8 = holidayDestinations[reviewScoreAbove8Filter]\n",
    "    print(\"Filtered data with a score above 8: \\n\", allDataAboveAScoreOf8)\n",
    "\n",
    "    # 8. Filter the data score below 3 ( I need to know if these destinations should be removed or there is a problem)\n",
    "    reviewScoreBelow3Filter = holidayDestinations[\"Review_Score\"] <= 3\n",
    "    allDataBelowAScoreOf3 = holidayDestinations[reviewScoreBelow3Filter]\n",
    "    print(\"Filtered data with a score below 3: \\n\", allDataBelowAScoreOf3)\n"
   ]
  },
  {
   "cell_type": "markdown",
   "metadata": {},
   "source": [
    "## Extension Task"
   ]
  },
  {
   "cell_type": "code",
   "execution_count": null,
   "metadata": {},
   "outputs": [],
   "source": [
    "\n",
    "\n",
    "# 1. Is there a correlation between number of all-inclusive hotels and score? [SEE GIT READ ME FOR GRAPH PHOTO]\n",
    "\n",
    "    holidayDestinations.plot.scatter(x='Near_By_Hotels', y='Review_Score', color='black')\n",
    "    plt.title(\"Hotels and Scores\")\n",
    "    plt.xlabel(\"Number of Hotels\")\n",
    "    plt.ylabel(\"Score\")\n",
    "    sns.regplot(x=holidayDestinations['Near_By_Hotels'], y=holidayDestinations['Review_Score'],\n",
    "                scatter_kws={\"color\": \"black\"}, line_kws={\"color\": \"red\"})\n",
    "    plt.show()\n",
    "    print(\"The more hotels there were the higher the overall score was. As we can \"\n",
    "          \"see with the positive correlation in the scatter graph.\")\n",
    "\n",
    "# TODO: Google how to do correlations in python pandas - DONE\n",
    "# TODO: lmplot() creates a separate table from my initial inputted data. I dont want 2 graphs created only 1. - DONE\n",
    "# TODO: How to change correlation line colour and plot point colours. - DONE\n",
    "# TODO: How to underline the title? - IN PROGRESS\n",
    "\n",
    "# 2. Create a data visualisation diagram to show destination and highest scores? [SEE GIT READ ME FOR GRAPH PHOTO]\n",
    "\n",
    "    holidayDestinations.plot.barh(y='Review_Score', x='Holiday_Destinatinos', color='#77dd77')\n",
    "    plt.title(\"Holiday Destinations and their Scores\")\n",
    "    plt.xlabel(\"Review Score\")\n",
    "    plt.ylabel(\"Holiday Destinations\")\n",
    "    plt.tight_layout()\n",
    "    plt.show()\n",
    "\n",
    "#-------------------------TERMINAL OUTPUT----------------------------#\n",
    "\n",
    "# Holiday Destinations Data Set:\n",
    "#           Holiday_Destinatinos  Review_Score  ...  Near_By_Hotels  Most_Visited_Cities\n",
    "# 0             United Kingdom             8  ...             104               London\n",
    "# 1                      Japan            10  ...              78                Tokyo\n",
    "# 2   United States of America             6  ...              89             New York\n",
    "# 3                      India             7  ...              21               Mumbai\n",
    "# 4                  Australia             9  ...              32             Canberra\n",
    "# 5                      China             7  ...              14            Hong Kong\n",
    "# 6                      Italy             8  ...              67                 Rome\n",
    "# 7                       Bali             8  ...              46             Denpasar\n",
    "# 8                   Thailand             7  ...              22              Bangkok\n",
    "# 9            The Netherlands             9  ...              16           Amsterdam\n",
    "# 10               North Korea             3  ...               2            Pyongyang\n",
    "# 11                     Egypt             7  ...              13                Cairo\n",
    "# 12                   Ireland             4  ...               9               Dublin\n",
    "# 13                    France             6  ...              74                Paris\n",
    "#\n",
    "# [14 rows x 5 columns]\n",
    "# Number of ros and columns in my dataset:  (14, 5)\n",
    "# Observing rows 3 to 8:\n",
    "#         Holiday_Destinatinos  Review_Score  ...  Near_By_Hotels  Most_Visited_Cities\n",
    "# 2  United States of America             6  ...              89             New York\n",
    "# 3                     India             7  ...              21               Mumbai\n",
    "# 4                 Australia             9  ...              32             Canberra\n",
    "# 5                     China             7  ...              14            Hong Kong\n",
    "# 6                     Italy             8  ...              67                 Rome\n",
    "# 7                      Bali             8  ...              46             Denpasar\n",
    "#\n",
    "# [6 rows x 5 columns]\n",
    "# The mean number of all hotels across all destinations is:  41.92857142857143\n",
    "# The lowest scoring destination has a score of:  3\n",
    "# The associated destination with the lowest score is:  10\n",
    "# The lowest Scoring Destination is:  North Korea\n",
    "# The highest scoring destination has a score of:  10\n",
    "# The associated destination with the highest score is:  1\n",
    "# The highest Scoring Destination is:  Japan\n",
    "# The destinations with the more than 50 hotels:\n",
    "#          Holiday_Destinatinos  Review_Score  ...  Near_By_Hotels  Most_Visited_Cities\n",
    "# 0             United Kingdom             8  ...             104               London\n",
    "# 1                      Japan            10  ...              78                Tokyo\n",
    "# 2   United States of America             6  ...              89             New York\n",
    "# 6                      Italy             8  ...              67                 Rome\n",
    "# 13                    France             6  ...              74                Paris\n",
    "#\n",
    "# [5 rows x 5 columns]\n",
    "# Filtered data with a score above 8:\n",
    "#    Holiday_Destinatinos  Review_Score  ...  Near_By_Hotels  Most_Visited_Cities\n",
    "# 0       United Kingdom             8  ...             104               London\n",
    "# 1                Japan            10  ...              78                Tokyo\n",
    "# 4            Australia             9  ...              32             Canberra\n",
    "# 6                Italy             8  ...              67                 Rome\n",
    "# 7                 Bali             8  ...              46             Denpasar\n",
    "# 9      The Netherlands             9  ...              16           Amsterdam\n",
    "#\n",
    "# [6 rows x 5 columns]\n",
    "# Filtered data with a score below 3:\n",
    "#     Holiday_Destinatinos  Review_Score  ...  Near_By_Hotels  Most_Visited_Cities\n",
    "# 10          North Korea             3  ...               2            Pyongyang\n",
    "#\n",
    "# [1 rows x 5 columns]\n",
    "# The more hotels there were the higher the overall score was. As we can see with the positive correlation in the scatter graph.\n",
    "#\n",
    "# Process finished with exit code 0"
   ]
  }
 ],
 "metadata": {
  "interpreter": {
   "hash": "ac59ebe37160ed0dfa835113d9b8498d9f09ceb179beaac4002f036b9467c963"
  },
  "kernelspec": {
   "display_name": "Python 3.7.9 64-bit",
   "language": "python",
   "name": "python3"
  },
  "language_info": {
   "codemirror_mode": {
    "name": "ipython",
    "version": 3
   },
   "file_extension": ".py",
   "mimetype": "text/x-python",
   "name": "python",
   "nbconvert_exporter": "python",
   "pygments_lexer": "ipython3",
   "version": "3.9.12"
  },
  "metadata": {
   "interpreter": {
    "hash": "636e299b37111d97eea3fe2d7ed37df9e8f924b86b1cc77d19ac23f8364ffe29"
   }
  }
 },
 "nbformat": 4,
 "nbformat_minor": 4
}
