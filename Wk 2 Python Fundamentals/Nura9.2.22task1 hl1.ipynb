{
 "cells": [
  {
   "cell_type": "code",
   "execution_count": 13,
   "metadata": {},
   "outputs": [
    {
     "name": "stdout",
     "output_type": "stream",
     "text": [
      "Hello,nu I am thinking of a number between 1 and 100\n",
      "to low slow poke try again granpa!!\n"
     ]
    }
   ],
   "source": [
    "\n",
    "#Task 1 - write a program that: 1. Stores a random number (1-10)using import random & Random.radint(1,100)\n",
    "#2. Asl user for thier, name & store in this in a variable 3. Ask user to guess a number 4. Tells the user if the guess is correct \n",
    "\n",
    "import random\n",
    "\n",
    "myname = input(\"Salutations what is your name?\")\n",
    "\n",
    "number = random.randint(1,100)\n",
    "\n",
    "print(\"Hello,\" +myname + \" I am thinking of a number between 1 and 100\")\n",
    "\n",
    "guess=int(input(\"Can you guess what number im thinking off?\"))\n",
    "\n",
    "if guess == number:\n",
    "    print( \"fab how did you guess my number witch!\")\n",
    "elif guess < number:\n",
    "    print(\"to low slow poke try again granpa!!\")\n",
    "elif guess > number:\n",
    "    print(\"Your too high! slow down little one!\")"
   ]
  },
  {
   "cell_type": "code",
   "execution_count": 11,
   "metadata": {},
   "outputs": [
    {
     "name": "stdout",
     "output_type": "stream",
     "text": [
      "Are monsters good at math? No, unless you Count Dracula.\n"
     ]
    }
   ],
   "source": [
    "#Task 2= Write a program that asks a user for their favourite number between 1 and 100 and then tells them a joke based on the number. You should use a minimum of 3 jokes.\n",
    "\n",
    "Fav_number = int(input(\"Hello!, Please choose your favourite number between 1-100!?\"))\n",
    "\n",
    "if (Fav_number < 33):\n",
    "    print(\"Nice! Which king loved fractions? Henry the eighth\")\n",
    "elif (Fav_number > 34 < 63):\n",
    "    print( \"Are monsters good at math?\", \"No, unless you Count Dracula.\")\n",
    "elif Fav_number > range(64-100):\n",
    "    print(\"Why did the student get upset when her teacher called her average? It was a 'mean' thing to say..\")\n",
    "\n"
   ]
  },
  {
   "cell_type": "code",
   "execution_count": 12,
   "metadata": {},
   "outputs": [
    {
     "name": "stdout",
     "output_type": "stream",
     "text": [
      "['1=salad', '2=plantain, 3=grilled fish of the day, 4=chicken pate']\n",
      "Your favourite meal is Salad, Veggie Burger and Pumpkin Pie with a glass of….\n"
     ]
    }
   ],
   "source": [
    "#Task 3 Write a program that allows user to enter their favourite starter, main, course, dessert and drink. Concatenate these and output a message which says , ––“Your favourite meal is ………with a glass of….”\n",
    "\n",
    "#Data source of Food \n",
    "\n",
    "Plaintain = 1\n",
    "GreekSalad = 2\n",
    "Grilledfish = 3\n",
    "Chickenpate = 4\n",
    "RoastChicken = 5\n",
    "BeefBurger = 6\n",
    "VeggieBurger = 7\n",
    "SoftDrink = 8 \n",
    "Water = 9\n",
    "RedWine = 10\n",
    "RumandCoke = 11 \n",
    "PinaColada = 12\n",
    "MangoLassi = 13\n",
    "FruitBowl = 14 \n",
    "Icecream = 15 \n",
    "ApplePie = 16\n",
    "\n",
    "\n",
    "#each menue option has a number assigned \n",
    "\n",
    "User_input = input( \"what Starter, Main course and desert would you like? Select an option 1-16\")\n",
    "\n",
    "\n",
    "if(User_input==1,8,11):\n",
    "    print(\"Your favourite meal is Salad, Veggie Burger and Pumpkin Pie with a glass of….\")\n"
   ]
  },
  {
   "cell_type": "code",
   "execution_count": 15,
   "metadata": {},
   "outputs": [
    {
     "name": "stdout",
     "output_type": "stream",
     "text": [
      "Your favourite meal is Prawns and Lasagne finishing off with Pancotta with a glass of Coke\n"
     ]
    }
   ],
   "source": [
    "Starter = input(\"What Starter would you like in your meal?\")\n",
    "Drink = input(\"What Drink would you like in your meal?\")\n",
    "MainCourse = input(\"What Main Dish would you like in your meal?\")\n",
    "Desert = input(\"What Desert would you like in your meal?\")\n",
    "\n",
    "print(\"Your favourite meal is\", Starter,\"and\", MainCourse,\"finishing off with\", Desert, \"with a glass of\", Drink,)\n"
   ]
  },
  {
   "cell_type": "code",
   "execution_count": null,
   "metadata": {},
   "outputs": [],
   "source": [
    "#Task 4 A motorbike costs £2000 and loses 10% of its value every year. \n",
    "# Using a loop, print the value of the bike every following year until it falls below £1000\n",
    "\n",
    "InitialPrice= 2000.00\n",
    "Cost = InitialPrice\n",
    "Year = 0 \n",
    "\n",
    "# for loop\n",
    "\n",
    "for number in range (1,6):\n",
    "        print(number)\n",
    "# while loop\n",
    "condition = \"yes\"\n",
    "while condition == \"yes\":\n",
    "    print(\"Hello TTA Learners\")\n",
    "    condition = (input(\"Would you like to run the program again?\"))\n",
    "\n"
   ]
  },
  {
   "cell_type": "code",
   "execution_count": 16,
   "metadata": {},
   "outputs": [
    {
     "name": "stdout",
     "output_type": "stream",
     "text": [
      "Yearly depreciation of motorbike value:\n",
      "Year  0 :  2000.0\n",
      "Year  1 :  1800.0\n",
      "Year  2 :  1620.0\n",
      "Year  3 :  1458.0\n",
      "Year  4 :  1312.2\n",
      "Year  5 :  1180.98\n",
      "Year  6 :  1062.882\n"
     ]
    }
   ],
   "source": [
    "# motorcycle\n",
    "\n",
    "initial_cost = 2000.00\n",
    "cost = initial_cost\n",
    "year = 0\n",
    "\n",
    "print(\"Yearly depreciation of motorbike value:\")\n",
    "\n",
    "while cost >= 1000.0:\n",
    " print(\"Year \", year,  \": \", cost)\n",
    " year = year + 1\n",
    " cost = cost - (cost/10)"
   ]
  },
  {
   "cell_type": "code",
   "execution_count": 2,
   "metadata": {},
   "outputs": [
    {
     "name": "stdout",
     "output_type": "stream",
     "text": [
      "invalid choice, try again!\n"
     ]
    }
   ],
   "source": [
    "#Task 5 Write a program which will ask for two numbers from a user. #Give user a choice of operator: e.g. Enter “a” if you want to add “b” if you want to subtract Include +, --, /, *, ** square (to the power of). \n",
    "#Once the user has selected which operator they wish to use, perform the calculation.\n",
    "\n",
    "#user picks the numbers they want\n",
    "a = int(input(\"Pick a number between 1 and 100\"))\n",
    "b = int((input(\"pick another number between 1-100\")))\n",
    "\n",
    "#user chooses the mathematical operator \n",
    "oper = input(\"Choose a math operation (+, -, *, /, **,): \")\n",
    "if oper == \"+\":\n",
    "   print(a+b)\n",
    "elif oper == \"-\":\n",
    "   print (a-b)\n",
    "elif oper == \"*\":\n",
    "       print (a*b)\n",
    "elif oper == \"/\":\n",
    "       print (a/b)\n",
    "elif oper == \"**\":\n",
    "       print (a**b)\n",
    "else:\n",
    "       print(\"invalid choice, try again!\")\n",
    "\n",
    "#user gets a error message if they dont choose "
   ]
  },
  {
   "cell_type": "code",
   "execution_count": 1,
   "metadata": {},
   "outputs": [
    {
     "name": "stdout",
     "output_type": "stream",
     "text": [
      "Collecting numpyNote: you may need to restart the kernel to use updated packages.\n"
     ]
    },
    {
     "name": "stderr",
     "output_type": "stream",
     "text": [
      "  WARNING: The script f2py.exe is installed in 'C:\\Users\\nuram\\AppData\\Local\\Packages\\PythonSoftwareFoundation.Python.3.9_qbz5n2kfra8p0\\LocalCache\\local-packages\\Python39\\Scripts' which is not on PATH.\n",
      "  Consider adding this directory to PATH or, if you prefer to suppress this warning, use --no-warn-script-location.\n",
      "WARNING: You are using pip version 21.2.4; however, version 22.0.3 is available.\n",
      "You should consider upgrading via the 'C:\\Users\\nuram\\AppData\\Local\\Microsoft\\WindowsApps\\PythonSoftwareFoundation.Python.3.9_qbz5n2kfra8p0\\python.exe -m pip install --upgrade pip' command.\n"
     ]
    },
    {
     "name": "stdout",
     "output_type": "stream",
     "text": [
      "\n",
      "  Downloading numpy-1.22.2-cp39-cp39-win_amd64.whl (14.7 MB)\n",
      "Installing collected packages: numpy\n",
      "Successfully installed numpy-1.22.2\n"
     ]
    }
   ],
   "source": [
    "pip install numpy"
   ]
  }
 ],
 "metadata": {
  "interpreter": {
   "hash": "321bcc228412fa6db09e3d058e898968610b5a7a34e04b13058207068d3e2055"
  },
  "kernelspec": {
   "display_name": "Python 3.10.2 64-bit",
   "language": "python",
   "name": "python3"
  },
  "language_info": {
   "codemirror_mode": {
    "name": "ipython",
    "version": 3
   },
   "file_extension": ".py",
   "mimetype": "text/x-python",
   "name": "python",
   "nbconvert_exporter": "python",
   "pygments_lexer": "ipython3",
   "version": "3.9.10"
  },
  "orig_nbformat": 4
 },
 "nbformat": 4,
 "nbformat_minor": 2
}
