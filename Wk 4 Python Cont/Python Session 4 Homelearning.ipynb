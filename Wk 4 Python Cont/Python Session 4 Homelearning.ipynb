{
 "cells": [
  {
   "cell_type": "markdown",
   "metadata": {},
   "source": [
    "## Task 1\n",
    "# Write a program that allows you to enter 4 numbers\n",
    "# and stores them in a file called “Numbers”\n",
    "# 3, 45, 83, 21"
   ]
  },
  {
   "cell_type": "code",
   "execution_count": 1,
   "metadata": {},
   "outputs": [
    {
     "name": "stdout",
     "output_type": "stream",
     "text": [
      "Enter Number 1: \n"
     ]
    },
    {
     "ename": "ValueError",
     "evalue": "invalid literal for int() with base 10: ''",
     "output_type": "error",
     "traceback": [
      "\u001b[1;31m---------------------------------------------------------------------------\u001b[0m",
      "\u001b[1;31mValueError\u001b[0m                                Traceback (most recent call last)",
      "\u001b[1;32mc:\\Users\\nuram\\OneDrive\\1. IT Development\\1.2 CPD\\TechTalent\\1.2 Data Science Cw &Hw\\Wk 4 Python 2 & 3\\Python Session 3 Homelearning.ipynb Cell 2'\u001b[0m in \u001b[0;36m<module>\u001b[1;34m\u001b[0m\n\u001b[0;32m     <a href='vscode-notebook-cell:/c%3A/Users/nuram/OneDrive/1.%20IT%20Development/1.2%20CPD/TechTalent/1.2%20Data%20Science%20Cw%20%26Hw/Wk%204%20Python%202%20%26%203/Python%20Session%203%20Homelearning.ipynb#ch0000001?line=19'>20</a>\u001b[0m     \u001b[39m# Simplified Version below\u001b[39;00m\n\u001b[0;32m     <a href='vscode-notebook-cell:/c%3A/Users/nuram/OneDrive/1.%20IT%20Development/1.2%20CPD/TechTalent/1.2%20Data%20Science%20Cw%20%26Hw/Wk%204%20Python%202%20%26%203/Python%20Session%203%20Homelearning.ipynb#ch0000001?line=20'>21</a>\u001b[0m     \u001b[39m# numlist =['123', '234', '345']\u001b[39;00m\n\u001b[0;32m     <a href='vscode-notebook-cell:/c%3A/Users/nuram/OneDrive/1.%20IT%20Development/1.2%20CPD/TechTalent/1.2%20Data%20Science%20Cw%20%26Hw/Wk%204%20Python%202%20%26%203/Python%20Session%203%20Homelearning.ipynb#ch0000001?line=21'>22</a>\u001b[0m     \u001b[39m# my_file = open(\"numbers.txt\", \"w\")\u001b[39;00m\n\u001b[0;32m     <a href='vscode-notebook-cell:/c%3A/Users/nuram/OneDrive/1.%20IT%20Development/1.2%20CPD/TechTalent/1.2%20Data%20Science%20Cw%20%26Hw/Wk%204%20Python%202%20%26%203/Python%20Session%203%20Homelearning.ipynb#ch0000001?line=22'>23</a>\u001b[0m     \u001b[39m# for num in numlist:\u001b[39;00m\n\u001b[0;32m     <a href='vscode-notebook-cell:/c%3A/Users/nuram/OneDrive/1.%20IT%20Development/1.2%20CPD/TechTalent/1.2%20Data%20Science%20Cw%20%26Hw/Wk%204%20Python%202%20%26%203/Python%20Session%203%20Homelearning.ipynb#ch0000001?line=23'>24</a>\u001b[0m     \u001b[39m#     my_file.writelines(num+'\\n')\u001b[39;00m\n\u001b[0;32m     <a href='vscode-notebook-cell:/c%3A/Users/nuram/OneDrive/1.%20IT%20Development/1.2%20CPD/TechTalent/1.2%20Data%20Science%20Cw%20%26Hw/Wk%204%20Python%202%20%26%203/Python%20Session%203%20Homelearning.ipynb#ch0000001?line=24'>25</a>\u001b[0m     \u001b[39m# my_file.close()\u001b[39;00m\n\u001b[0;32m     <a href='vscode-notebook-cell:/c%3A/Users/nuram/OneDrive/1.%20IT%20Development/1.2%20CPD/TechTalent/1.2%20Data%20Science%20Cw%20%26Hw/Wk%204%20Python%202%20%26%203/Python%20Session%203%20Homelearning.ipynb#ch0000001?line=26'>27</a>\u001b[0m \u001b[39mif\u001b[39;00m \u001b[39m__name__\u001b[39m \u001b[39m==\u001b[39m \u001b[39m'\u001b[39m\u001b[39m__main__\u001b[39m\u001b[39m'\u001b[39m:\n\u001b[1;32m---> <a href='vscode-notebook-cell:/c%3A/Users/nuram/OneDrive/1.%20IT%20Development/1.2%20CPD/TechTalent/1.2%20Data%20Science%20Cw%20%26Hw/Wk%204%20Python%202%20%26%203/Python%20Session%203%20Homelearning.ipynb#ch0000001?line=27'>28</a>\u001b[0m     files()\n",
      "\u001b[1;32mc:\\Users\\nuram\\OneDrive\\1. IT Development\\1.2 CPD\\TechTalent\\1.2 Data Science Cw &Hw\\Wk 4 Python 2 & 3\\Python Session 3 Homelearning.ipynb Cell 2'\u001b[0m in \u001b[0;36mfiles\u001b[1;34m()\u001b[0m\n\u001b[0;32m      <a href='vscode-notebook-cell:/c%3A/Users/nuram/OneDrive/1.%20IT%20Development/1.2%20CPD/TechTalent/1.2%20Data%20Science%20Cw%20%26Hw/Wk%204%20Python%202%20%26%203/Python%20Session%203%20Homelearning.ipynb#ch0000001?line=6'>7</a>\u001b[0m \u001b[39mfor\u001b[39;00m i \u001b[39min\u001b[39;00m \u001b[39mrange\u001b[39m(\u001b[39m0\u001b[39m, n):\n\u001b[0;32m      <a href='vscode-notebook-cell:/c%3A/Users/nuram/OneDrive/1.%20IT%20Development/1.2%20CPD/TechTalent/1.2%20Data%20Science%20Cw%20%26Hw/Wk%204%20Python%202%20%26%203/Python%20Session%203%20Homelearning.ipynb#ch0000001?line=7'>8</a>\u001b[0m     \u001b[39mprint\u001b[39m(\u001b[39m\"\u001b[39m\u001b[39mEnter Number \u001b[39m\u001b[39m{}\u001b[39;00m\u001b[39m: \u001b[39m\u001b[39m\"\u001b[39m\u001b[39m.\u001b[39mformat(i \u001b[39m+\u001b[39m \u001b[39m1\u001b[39m))\n\u001b[1;32m----> <a href='vscode-notebook-cell:/c%3A/Users/nuram/OneDrive/1.%20IT%20Development/1.2%20CPD/TechTalent/1.2%20Data%20Science%20Cw%20%26Hw/Wk%204%20Python%202%20%26%203/Python%20Session%203%20Homelearning.ipynb#ch0000001?line=8'>9</a>\u001b[0m     inputted_number \u001b[39m=\u001b[39m \u001b[39mint\u001b[39;49m(\u001b[39minput\u001b[39;49m())\n\u001b[0;32m     <a href='vscode-notebook-cell:/c%3A/Users/nuram/OneDrive/1.%20IT%20Development/1.2%20CPD/TechTalent/1.2%20Data%20Science%20Cw%20%26Hw/Wk%204%20Python%202%20%26%203/Python%20Session%203%20Homelearning.ipynb#ch0000001?line=9'>10</a>\u001b[0m     list_of_numbers\u001b[39m.\u001b[39mappend(inputted_number)\n\u001b[0;32m     <a href='vscode-notebook-cell:/c%3A/Users/nuram/OneDrive/1.%20IT%20Development/1.2%20CPD/TechTalent/1.2%20Data%20Science%20Cw%20%26Hw/Wk%204%20Python%202%20%26%203/Python%20Session%203%20Homelearning.ipynb#ch0000001?line=10'>11</a>\u001b[0m \u001b[39mprint\u001b[39m(\u001b[39m\"\u001b[39m\u001b[39mThe list you entered is: \u001b[39m\u001b[39m\"\u001b[39m, list_of_numbers)\n",
      "\u001b[1;31mValueError\u001b[0m: invalid literal for int() with base 10: ''"
     ]
    }
   ],
   "source": [
    "\n",
    "\n",
    "\n",
    "def files():\n",
    "\n",
    "    list_of_numbers = []\n",
    "\n",
    "    n = int(input(\"How many numbers do you want to enter? : \"))\n",
    "\n",
    "    for i in range(0, n):\n",
    "        print(\"Enter Number {}: \".format(i + 1))\n",
    "        inputted_number = int(input())\n",
    "        list_of_numbers.append(inputted_number)\n",
    "    print(\"The list you entered is: \", list_of_numbers)\n",
    "\n",
    "    my_file = open(\"numbers.txt\", \"w\")\n",
    "\n",
    "    for num in list_of_numbers:\n",
    "        my_file.writelines(str(num)+'\\n')\n",
    "\n",
    "    my_file.close()\n",
    "\n",
    "    # Simplified Version below\n",
    "    # numlist =['123', '234', '345']\n",
    "    # my_file = open(\"numbers.txt\", \"w\")\n",
    "    # for num in numlist:\n",
    "    #     my_file.writelines(num+'\\n')\n",
    "    # my_file.close()\n",
    "\n",
    "if __name__ == '__main__':\n",
    "    files()\n",
    "\n"
   ]
  },
  {
   "cell_type": "code",
   "execution_count": null,
   "metadata": {},
   "outputs": [],
   "source": [
    "## Task 2 <br>\n",
    "\n",
    "## Write a program to ask a student for their percentage mark and convert this to a grade.\n",
    "## The conversion will be done in a function called mark_grade."
   ]
  },
  {
   "cell_type": "code",
   "execution_count": 2,
   "metadata": {},
   "outputs": [
    {
     "name": "stdout",
     "output_type": "stream",
     "text": [
      "Your Grade is: B\n"
     ]
    }
   ],
   "source": [
    "\n",
    "\n",
    "    def mark_grade(grade_percentage):\n",
    "\n",
    "        grades_list = [\"A*\", \"A\", \"B\", \"C\", \"D\", \"E\", \"F\"]\n",
    "\n",
    "        if grade_percentage >= 90:\n",
    "            return grades_list[0]\n",
    "        elif 80 <= grade_percentage < 90:\n",
    "            return grades_list[1]\n",
    "        elif 70 <= grade_percentage < 80:\n",
    "            return grades_list[2]\n",
    "        elif 60 <= grade_percentage < 70:\n",
    "            return grades_list[3]\n",
    "        elif 50 <= grade_percentage < 60:\n",
    "            return grades_list[4]\n",
    "        elif 40 <= grade_percentage < 80:\n",
    "            return grades_list[5]\n",
    "        else:\n",
    "            return grades_list[6]\n",
    "\n",
    "    users_percentage_mark = int(input(\"What percentage score did you get out of %100 on your exam?\"))\n",
    "    final_grade = mark_grade(users_percentage_mark)\n",
    "    print(\"Your Grade is: \" + final_grade)\n",
    "\n",
    "\n"
   ]
  },
  {
   "cell_type": "markdown",
   "metadata": {},
   "source": [
    "## Extension to Task 2 <br>\n",
    "# • Ask the user for their target grade and print this with their mark\n",
    "# • If their target grade > exam grade display a suitable message\n",
    "# • If their target grade = exam grade display a suitable message\n",
    "# • If their target grade < exam grade display a suitable message <br>\n"
   ]
  },
  {
   "cell_type": "code",
   "execution_count": 3,
   "metadata": {},
   "outputs": [
    {
     "name": "stdout",
     "output_type": "stream",
     "text": [
      "Well done! Your grade: B Target Grade: b\n"
     ]
    }
   ],
   "source": [
    "\n",
    "\n",
    "\n",
    "    users_target_grade = input(\"What is your target grade?\")\n",
    "\n",
    "    if users_target_grade == final_grade:\n",
    "        print(\"You reached your target! Your grade: \" + final_grade + \" Target Grade: \" + users_target_grade)\n",
    "    elif users_target_grade == \"A*\" and final_grade == \"A\":\n",
    "        print(\"Almost! Your grade: \" + final_grade + \" Target Grade: \" + users_target_grade)\n",
    "    elif users_target_grade == \"A\" and final_grade == \"A*\":\n",
    "        print(\"You got higher than your target grade! Your grade: \" + final_grade + \" Target Grade: \" + users_target_grade)\n",
    "    elif users_target_grade < final_grade:\n",
    "        print(\"You need to work harder Your grade: \" + final_grade + \" Target Grade: \" + users_target_grade)\n",
    "    else:\n",
    "        print(\"Well done! Your grade: \" + final_grade + \" Target Grade: \" + users_target_grade)"
   ]
  }
 ],
 "metadata": {
  "interpreter": {
   "hash": "ac59ebe37160ed0dfa835113d9b8498d9f09ceb179beaac4002f036b9467c963"
  },
  "kernelspec": {
   "display_name": "Python 3.7.9 64-bit",
   "language": "python",
   "name": "python3"
  },
  "language_info": {
   "codemirror_mode": {
    "name": "ipython",
    "version": 3
   },
   "file_extension": ".py",
   "mimetype": "text/x-python",
   "name": "python",
   "nbconvert_exporter": "python",
   "pygments_lexer": "ipython3",
   "version": "3.9.12"
  },
  "metadata": {
   "interpreter": {
    "hash": "636e299b37111d97eea3fe2d7ed37df9e8f924b86b1cc77d19ac23f8364ffe29"
   }
  }
 },
 "nbformat": 4,
 "nbformat_minor": 4
}
