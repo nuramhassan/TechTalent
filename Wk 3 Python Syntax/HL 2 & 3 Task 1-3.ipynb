{
 "cells": [
  {
   "cell_type": "markdown",
   "metadata": {},
   "source": [
    "## WK4 Session 2 & 3 HL <br>"
   ]
  },
  {
   "cell_type": "markdown",
   "metadata": {},
   "source": [
    "## WK4 Session 2 HL <br>"
   ]
  },
  {
   "cell_type": "markdown",
   "metadata": {},
   "source": [
    "## S.2 HL1 Task 1 code <br>"
   ]
  },
  {
   "cell_type": "markdown",
   "metadata": {},
   "source": [
    "# Session 2 HL Task 1 part 2 \n",
    "Create your own Flow Diagram, a subject of your own choice, Example: Fast food order and convert it into code."
   ]
  },
  {
   "cell_type": "code",
   "execution_count": 7,
   "metadata": {},
   "outputs": [
    {
     "name": "stdout",
     "output_type": "stream",
     "text": [
      "Your Blue T-shirt is now ready\n"
     ]
    }
   ],
   "source": [
    "User_Colour = int(input(\" Choose the colour of the shirt you would like; 1=red, 2=blue or 3=green\"))\n",
    "\n",
    "if (User_Colour==1):\n",
    "    print(\"Your Red T-shirt is now ready\")\n",
    "elif(User_Colour==2):\n",
    "    print (\"Your Blue T-shirt is now ready\")\n",
    "elif(User_Colour==3):\n",
    "    print (\"Your Green T-shirt is now ready\")\n",
    "else:\n",
    "    print (\"You didn’t choose the correct option\")\n",
    "    "
   ]
  },
  {
   "cell_type": "markdown",
   "metadata": {},
   "source": [
    "# Session 2 HL Task 2 \n",
    "As an extension to the motorbike task that costs £2000 and loses 10% of its value every year. \n",
    "Set up a function that performs the calculation by passing in parameters. \n",
    "Then using a loop, print the value of the bike every following year until it falls below £1000\n"
   ]
  },
  {
   "cell_type": "code",
   "execution_count": null,
   "metadata": {},
   "outputs": [],
   "source": [
    "# Im really unsure what i have been doing or if it is right to be honest i googled it - please can i have some help?\n"
   ]
  },
  {
   "cell_type": "code",
   "execution_count": 10,
   "metadata": {},
   "outputs": [],
   "source": [
    "def MotorCycle_Val():\n",
    "    MotorCycle_Val = 2000.00\n",
    "    Cost = MotorCycle_Val\n",
    "    #no idea why we do this\n",
    "\n",
    "    Year = 0 \n",
    "        #no idea why we do this\n",
    "\n",
    "    print(\"Yearly depreciation of motorbike value:\")\n",
    "\n",
    "    while Cost >= 1000.00:\n",
    "        print(\"Year\", Year, \":\", MotorCycle_Val)\n",
    "        Year = Year + 1\n",
    "        MotorCycle_Val = MotorCycle_Val - (MotorCycle_Val/10)\n",
    "    \n"
   ]
  },
  {
   "cell_type": "markdown",
   "metadata": {},
   "source": [
    "\n",
    "# Session 3 Task 1 \n",
    "Write a program which will ask for two numbers from a user. Then offer an option menu to the user giving them a choice of maths operators. Once the user has selected which operator they wish to use, perform the calculation by using a procedure and passing parameters."
   ]
  },
  {
   "cell_type": "code",
   "execution_count": 12,
   "metadata": {},
   "outputs": [
    {
     "name": "stdout",
     "output_type": "stream",
     "text": [
      "Select operation\n",
      "1. Add\n",
      "2. Substract\n",
      "3. Multiply\n",
      "4. Divide\n",
      "8.0\n"
     ]
    }
   ],
   "source": [
    "def add(x, y):\n",
    "    return x + y\n",
    "\n",
    "def substract(x, y):\n",
    "    return x - y\n",
    "\n",
    "def multiply(x, y):\n",
    "    return x * y\n",
    "\n",
    "def divide(x, y):\n",
    "    return x / y\n",
    "\n",
    "print(\"Select operation\")\n",
    "print(\"1. Add\")\n",
    "print(\"2. Substract\")\n",
    "print(\"3. Multiply\")\n",
    "print(\"4. Divide\")\n",
    "\n",
    "while True:\n",
    "    choice = input(\"Enter choice \")\n",
    "\n",
    "    if choice in ('1', '2', '3', '4'):\n",
    "        num1 = float(input(\"Enter first number: \"))\n",
    "        num2 = float(input(\"Enter second number \"))\n",
    "\n",
    "        if choice == '1':\n",
    "            print(add(num1, num2))\n",
    "        elif choice == '2':\n",
    "            print(substract(num1, num2))\n",
    "        elif choice == '3':\n",
    "            print(multiply(num1, num2))\n",
    "        elif choice == '4':\n",
    "            print(divide(num1, num2))\n",
    "        next_calculation = input(\"Another one? yes/no: \")\n",
    "        if next_calculation == \"no\":\n",
    "            break\n",
    "    else:\n",
    "        print(\"Invalid input\")"
   ]
  },
  {
   "cell_type": "markdown",
   "metadata": {},
   "source": [
    "# # Session 3 Task 2 :\n",
    " Write a program to ask a student for their percentage mark and convert this to a grade.  The conversion will be done in a function called mark_grade."
   ]
  },
  {
   "cell_type": "code",
   "execution_count": null,
   "metadata": {
    "tags": []
   },
   "outputs": [],
   "source": [
    "\n",
    "\n",
    "    def mark_grade(grade_percentage):\n",
    "\n",
    "        grades_list = [\"A*\", \"A\", \"B\", \"C\", \"D\", \"E\", \"F\"]\n",
    "\n",
    "        if grade_percentage >= 90:\n",
    "            return grades_list[0]\n",
    "        elif 80 <= grade_percentage < 90:\n",
    "            return grades_list[1]\n",
    "        elif 70 <= grade_percentage < 80:\n",
    "            return grades_list[2]\n",
    "        elif 60 <= grade_percentage < 70:\n",
    "            return grades_list[3]\n",
    "        elif 50 <= grade_percentage < 60:\n",
    "            return grades_list[4]\n",
    "        elif 40 <= grade_percentage < 80:\n",
    "            return grades_list[5]\n",
    "        else:\n",
    "            return grades_list[6]\n",
    "\n",
    "    users_percentage_mark = int(input(\"What percentage score did you get out of %100 on your exam?\"))\n",
    "    final_grade = mark_grade(users_percentage_mark)\n",
    "    print(\"Your Grade is: \" + final_grade)\n",
    "\n"
   ]
  },
  {
   "cell_type": "markdown",
   "metadata": {},
   "source": [
    "# Task 2 Extension: \n",
    "Ask the user for their target grade and print this with their mark\n",
    "If their target grade > exam grade display a suitable message\n",
    "If their target grade = exam grade display a suitable message\n",
    "If their target grade < exam grade display a suitable message"
   ]
  },
  {
   "cell_type": "code",
   "execution_count": null,
   "metadata": {
    "tags": []
   },
   "outputs": [],
   "source": [
    "\n",
    "    users_target_grade = input(\"What is your target grade?\")\n",
    "\n",
    "    if users_target_grade == final_grade:\n",
    "        print(\"You reached your target! Your grade: \" + final_grade + \" Target Grade: \" + users_target_grade)\n",
    "    elif users_target_grade == \"A*\" and final_grade == \"A\":\n",
    "        print(\"Almost! Your grade: \" + final_grade + \" Target Grade: \" + users_target_grade)\n",
    "    elif users_target_grade == \"A\" and final_grade == \"A*\":\n",
    "        print(\"You got higher than your target grade! Your grade: \" + final_grade + \" Target Grade: \" + users_target_grade)\n",
    "    elif users_target_grade < final_grade:\n",
    "        print(\"You need to work harder Your grade: \" + final_grade + \" Target Grade: \" + users_target_grade)\n",
    "    else:\n",
    "        print(\"Well done! Your grade: \" + final_grade + \" Target Grade: \" + users_target_grade)"
   ]
  }
 ],
 "metadata": {
  "interpreter": {
   "hash": "4853882b697e6b0431e01bed671aeb3a0e9ddaa05d67de9c41ea02ac68e863a0"
  },
  "kernelspec": {
   "display_name": "Python 3",
   "language": "python",
   "name": "python3"
  },
  "language_info": {
   "codemirror_mode": {
    "name": "ipython",
    "version": 3
   },
   "file_extension": ".py",
   "mimetype": "text/x-python",
   "name": "python",
   "nbconvert_exporter": "python",
   "pygments_lexer": "ipython3",
   "version": "3.9.10"
  }
 },
 "nbformat": 4,
 "nbformat_minor": 4
}
